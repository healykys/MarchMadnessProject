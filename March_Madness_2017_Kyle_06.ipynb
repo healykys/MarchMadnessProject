{
 "cells": [
  {
   "cell_type": "code",
   "execution_count": 1,
   "metadata": {
    "collapsed": false
   },
   "outputs": [],
   "source": [
    "%matplotlib inline\n",
    "import matplotlib.pyplot as plt\n",
    "import pandas as pd\n",
    "import numpy as np\n",
    "import itertools\n",
    "from sklearn.model_selection import train_test_split\n",
    "from sklearn import preprocessing\n",
    "\n",
    "np.random.seed(15)\n",
    "\n",
    "#read in datasets\n",
    "teams = pd.read_csv('Teams.csv')\n",
    "seasons = pd.read_csv('Seasons.csv')\n",
    "tourneyCompactResults = pd.read_csv('TourneyCompactResults.csv')\n",
    "tourneyDetailedResults = pd.read_csv('TourneyDetailedResults.csv')\n",
    "tourneySeeds = pd.read_csv('TourneySeeds.csv')\n",
    "tourneySlots = pd.read_csv('TourneySlots.csv')\n",
    "regularSeasonCompactResults = pd.read_csv('RegularSeasonCompactResults.csv')\n",
    "regularSeasonDetailedResults = pd.read_csv('RegularSeasonDetailedResults.csv')\n",
    "submission_df = pd.read_csv( 'sample_submission.csv')\n",
    "\n",
    "#turn all datasets into DataFrames\n",
    "teams_df = pd.DataFrame(teams)\n",
    "seasons_df = pd.DataFrame(seasons)\n",
    "tourneyCompact_df = pd.DataFrame(tourneyCompactResults)\n",
    "tourneyDetailed_df = pd.DataFrame(tourneyDetailedResults)\n",
    "tourneySeeds_df = pd.DataFrame(tourneySeeds)\n",
    "tourneySlots_df = pd.DataFrame(tourneySlots)\n",
    "regSeasonCompact_df = pd.DataFrame(regularSeasonCompactResults)\n",
    "regSeasonDetailed_df = pd.DataFrame(regularSeasonDetailedResults)"
   ]
  },
  {
   "cell_type": "markdown",
   "metadata": {},
   "source": [
    "Jayant's Code help"
   ]
  },
  {
   "cell_type": "code",
   "execution_count": 2,
   "metadata": {
    "collapsed": false
   },
   "outputs": [],
   "source": [
    "# Transform the data, get the seed number for winning and losing team and remove unnecessary columns\n",
    "tourney_merged_df = pd.merge(left=tourneyCompact_df, right=tourneySeeds_df, how='left',\n",
    "                           left_on=['Season', 'Wteam'], right_on=['Season', 'Team'])\n",
    "tourney_merged_df.rename(columns={'Seed' : 'Wseed', 'Team' : 'W_team'}, inplace=True)\n",
    "tourney_merged_df = pd.merge(left=tourney_merged_df, right=tourneySeeds_df, how='left',\n",
    "                           left_on=['Season', 'Lteam'], right_on=['Season', 'Team'])\n",
    "tourney_merged_df.rename(columns={'Seed' : 'Lseed', 'Team' : 'L_team'}, inplace=True)"
   ]
  },
  {
   "cell_type": "code",
   "execution_count": 3,
   "metadata": {
    "collapsed": false
   },
   "outputs": [],
   "source": [
    "tourney_sanitized_df = tourney_merged_df[['Season', 'Wteam', 'Lteam', 'Wseed', 'Lseed']].copy()\n",
    "tourney_sanitized_df['Wseed'] = tourney_sanitized_df['Wseed'].map(lambda x: int(x[1:3]))\n",
    "tourney_sanitized_df['Lseed'] = tourney_sanitized_df['Lseed'].map(lambda x: int(x[1:3]))\n",
    "tourney_sanitized_df['Seed_diff'] = tourney_sanitized_df['Wseed'] - tourney_sanitized_df['Lseed']\n"
   ]
  },
  {
   "cell_type": "code",
   "execution_count": 4,
   "metadata": {
    "collapsed": false
   },
   "outputs": [],
   "source": [
    "tourney_winning_df = pd.DataFrame()\n",
    "tourney_winning_df[['Team1', 'Team2', 'Seed_diff']] = tourney_sanitized_df[['Wteam', 'Lteam', 'Seed_diff']].copy()\n",
    "tourney_winning_df['result'] = 1\n",
    "tourney_losing_df = pd.DataFrame()\n",
    "tourney_losing_df[['Team1', 'Team2', 'Seed_diff']] = tourney_sanitized_df[['Lteam', 'Wteam', 'Seed_diff']].copy()\n",
    "tourney_losing_df['Seed_diff'] = -tourney_losing_df['Seed_diff']\n",
    "tourney_losing_df['result'] = 0\n",
    "tourney_train_final_df = pd.concat((tourney_winning_df, tourney_losing_df))\n",
    "team_dict = {t: i for i, t in enumerate(tourney_train_final_df.Team1.unique())}"
   ]
  },
  {
   "cell_type": "code",
   "execution_count": 5,
   "metadata": {
    "collapsed": false
   },
   "outputs": [],
   "source": [
    "X_train = tourney_train_final_df[['Team1', 'Team2', 'Seed_diff']].copy()\n",
    "X_train['Team1'] = X_train['Team1'].apply(lambda x: team_dict[x])\n",
    "X_train['Team2'] = X_train['Team2'].apply(lambda x: team_dict[x])\n",
    "X_train['Seed_diff'] = X_train['Seed_diff'].values.reshape(-1,1)\n",
    "Y_train = tourney_train_final_df.result.values"
   ]
  },
  {
   "cell_type": "code",
   "execution_count": 6,
   "metadata": {
    "collapsed": false,
    "scrolled": true
   },
   "outputs": [
    {
     "name": "stdout",
     "output_type": "stream",
     "text": [
      "Wall time: 4 ms\n"
     ]
    }
   ],
   "source": [
    "%%time\n",
    "X_train, X_test, y_train, y_test = train_test_split(\n",
    "    X_train, Y_train, test_size=0.2, random_state=5)"
   ]
  },
  {
   "cell_type": "code",
   "execution_count": 7,
   "metadata": {
    "collapsed": false
   },
   "outputs": [
    {
     "name": "stdout",
     "output_type": "stream",
     "text": [
      "GridSearchCV(cv=None, error_score='raise',\n",
      "       estimator=ExtraTreesClassifier(bootstrap=False, class_weight=None, criterion='entropy',\n",
      "           max_depth=None, max_features='auto', max_leaf_nodes=None,\n",
      "           min_impurity_split=1e-07, min_samples_leaf=1,\n",
      "           min_samples_split=2, min_weight_fraction_leaf=0.0,\n",
      "           n_estimators=10, n_jobs=1, oob_score=False, random_state=47,\n",
      "           verbose=0, warm_start=True),\n",
      "       fit_params={}, iid=True, n_jobs=1,\n",
      "       param_grid={'n_estimators': [1, 5, 10, 50, 100, 200, 300, 350, 400, 450, 500, 550, 600, 700, 800, 900, 1000]},\n",
      "       pre_dispatch='2*n_jobs', refit=True, return_train_score=True,\n",
      "       scoring=None, verbose=0)\n",
      "0.669817073171\n",
      "500\n",
      "Wall time: 3min 21s\n"
     ]
    }
   ],
   "source": [
    "%%time\n",
    "from sklearn.ensemble import ExtraTreesClassifier\n",
    "from sklearn.model_selection import GridSearchCV\n",
    "#from sklearn.grid_search import GridSearchCV\n",
    "\n",
    "n_estimators_list = [1,5,10,50,100,200,300,350,400,450,500,550,600,700,800,900,1000]\n",
    "\n",
    "etc = ExtraTreesClassifier(criterion=\"entropy\",random_state=47, warm_start=True)\n",
    "grid = GridSearchCV(estimator=etc, param_grid=dict(n_estimators=n_estimators_list))\n",
    "grid.fit(X_train, y_train)\n",
    "\n",
    "print(grid)\n",
    "# summarize the results of the grid search\n",
    "print(grid.best_score_)\n",
    "print(grid.best_estimator_.n_estimators)"
   ]
  },
  {
   "cell_type": "code",
   "execution_count": 8,
   "metadata": {
    "collapsed": false
   },
   "outputs": [
    {
     "name": "stdout",
     "output_type": "stream",
     "text": [
      "best score is 0.669817073171\n",
      "Params:  {'n_estimators': 500}\n"
     ]
    }
   ],
   "source": [
    "# Score of best_estimator on the left out data\n",
    "print(\"best score is {0}\".format(grid.best_score_))\n",
    "\n",
    "# Print the optimized parameters used in the model selected from grid search\n",
    "print \"Params: \", grid.best_params_\n",
    "\n",
    "### Assign the best estimator to final Extra Tree classifier\n",
    "et_clf = grid.best_estimator_"
   ]
  },
  {
   "cell_type": "code",
   "execution_count": 9,
   "metadata": {
    "collapsed": true
   },
   "outputs": [],
   "source": [
    "test_et_df = pd.DataFrame()\n",
    "test_et_df['Season'] = submission_df['id'].apply(lambda x: int(x.split(\"_\")[0]))\n",
    "test_et_df['Team1'] = submission_df['id'].apply(lambda x: int(x.split(\"_\")[1]))\n",
    "test_et_df['Team2'] = submission_df['id'].apply(lambda x: int(x.split(\"_\")[2]))"
   ]
  },
  {
   "cell_type": "code",
   "execution_count": 10,
   "metadata": {
    "collapsed": true
   },
   "outputs": [],
   "source": [
    "test_et_merged_df = pd.merge(left=test_et_df, right=tourneySeeds_df, how='left',\n",
    "                           left_on=['Season', 'Team1'], right_on=['Season', 'Team'])\n",
    "test_et_merged_df.rename(columns={'Seed' : 'Seed1', 'Team' : 'team_1'}, inplace=True)\n",
    "test_et_merged_df = pd.merge(left=test_et_merged_df, right=tourneySeeds_df, how='left',\n",
    "                           left_on=['Season', 'Team2'], right_on=['Season', 'Team'])\n",
    "test_et_merged_df.rename(columns={'Seed' : 'Seed2', 'Team' : 'team_2'}, inplace=True)\n",
    "test_et_sanitized_df = test_et_merged_df[['Season', 'Team1', 'Team2', 'Seed1', 'Seed2']].copy()\n",
    "test_et_sanitized_df['Seed1'] = test_et_sanitized_df['Seed1'].map(lambda x: int(x[1:3]))\n",
    "test_et_sanitized_df['Seed2'] = test_et_sanitized_df['Seed2'].map(lambda x: int(x[1:3]))\n",
    "test_et_sanitized_df['Seed_diff'] = test_et_sanitized_df['Seed1'] - test_et_sanitized_df['Seed2']"
   ]
  },
  {
   "cell_type": "code",
   "execution_count": 11,
   "metadata": {
    "collapsed": true
   },
   "outputs": [],
   "source": [
    "X_et_test = test_et_sanitized_df[['Team1', 'Team2', 'Seed_diff']].copy()\n",
    "X_et_test['Team1'] = X_et_test['Team1'].apply(lambda x: team_dict[x])\n",
    "X_et_test['Team2'] = X_et_test['Team2'].apply(lambda x: team_dict[x])\n",
    "X_et_test['Seed_diff'] = X_et_test['Seed_diff'].values.reshape(-1,1)"
   ]
  },
  {
   "cell_type": "code",
   "execution_count": 12,
   "metadata": {
    "collapsed": false
   },
   "outputs": [],
   "source": [
    "test_et_pred_prob = et_clf.predict_proba(X_et_test)[:,1]"
   ]
  },
  {
   "cell_type": "code",
   "execution_count": 13,
   "metadata": {
    "collapsed": false
   },
   "outputs": [],
   "source": [
    "final_et_output = pd.DataFrame()\n",
    "final_et_output['id'] = submission_df['id']\n",
    "final_et_output['pred'] = test_et_pred_prob\n",
    "final_et_output.to_csv('./output/et6.csv', index=False)"
   ]
  }
 ],
 "metadata": {
  "anaconda-cloud": {},
  "kernelspec": {
   "display_name": "Python [Root]",
   "language": "python",
   "name": "Python [Root]"
  },
  "language_info": {
   "codemirror_mode": {
    "name": "ipython",
    "version": 2
   },
   "file_extension": ".py",
   "mimetype": "text/x-python",
   "name": "python",
   "nbconvert_exporter": "python",
   "pygments_lexer": "ipython2",
   "version": "2.7.12"
  }
 },
 "nbformat": 4,
 "nbformat_minor": 1
}
