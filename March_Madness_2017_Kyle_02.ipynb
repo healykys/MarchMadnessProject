{
 "cells": [
  {
   "cell_type": "markdown",
   "metadata": {},
   "source": [
    "Attempt using Bagging"
   ]
  },
  {
   "cell_type": "code",
   "execution_count": 44,
   "metadata": {
    "collapsed": true
   },
   "outputs": [],
   "source": [
    "%matplotlib inline\n",
    "import matplotlib.pyplot as plt\n",
    "import pandas as pd\n",
    "import numpy as np\n",
    "import itertools\n",
    "from sklearn import cross_validation, preprocessing, tree\n",
    "from sklearn.metrics import classification_report, confusion_matrix\n",
    "\n",
    "np.random.seed(15)\n",
    "\n",
    "#read in datasets\n",
    "teams = pd.read_csv('Teams.csv')\n",
    "seasons = pd.read_csv('Seasons.csv')\n",
    "tourneyCompactResults = pd.read_csv('TourneyCompactResults.csv')\n",
    "tourneyDetailedResults = pd.read_csv('TourneyDetailedResults.csv')\n",
    "tourneySeeds = pd.read_csv('TourneySeeds.csv')\n",
    "tourneySlots = pd.read_csv('TourneySlots.csv')\n",
    "regularSeasonCompactResults = pd.read_csv('RegularSeasonCompactResults.csv')\n",
    "regularSeasonDetailedResults = pd.read_csv('RegularSeasonDetailedResults.csv')\n",
    "submission_df = pd.read_csv( 'sample_submission.csv')\n",
    "\n",
    "#turn all datasets into DataFrames\n",
    "teams_df = pd.DataFrame(teams)\n",
    "seasons_df = pd.DataFrame(seasons)\n",
    "tourneyCompact_df = pd.DataFrame(tourneyCompactResults)\n",
    "tourneyDetailed_df = pd.DataFrame(tourneyDetailedResults)\n",
    "tourneySeeds_df = pd.DataFrame(tourneySeeds)\n",
    "tourneySlots_df = pd.DataFrame(tourneySlots)\n",
    "regSeasonCompact_df = pd.DataFrame(regularSeasonCompactResults)\n",
    "regSeasonDetailed_df = pd.DataFrame(regularSeasonDetailedResults)"
   ]
  },
  {
   "cell_type": "code",
   "execution_count": 45,
   "metadata": {
    "collapsed": true
   },
   "outputs": [],
   "source": [
    "#turn all datasets into DataFrames\n",
    "teams_df = pd.DataFrame(teams)\n",
    "seasons_df = pd.DataFrame(seasons)\n",
    "tourneyCompact_df = pd.DataFrame(tourneyCompactResults)\n",
    "tourneyDetailed_df = pd.DataFrame(tourneyDetailedResults)\n",
    "tourneySeeds_df = pd.DataFrame(tourneySeeds)\n",
    "tourneySlots_df = pd.DataFrame(tourneySlots)\n",
    "regSeasonCompact_df = pd.DataFrame(regularSeasonCompactResults)\n",
    "regSeasonDetailed_df = pd.DataFrame(regularSeasonDetailedResults)"
   ]
  },
  {
   "cell_type": "code",
   "execution_count": 46,
   "metadata": {
    "collapsed": false
   },
   "outputs": [],
   "source": [
    "# Transform the data, get the seed number for winning and losing team and remove unnecessary columns\n",
    "tourney_merged_df = pd.merge(left=tourneyCompact_df, right=tourneySeeds_df, how='left',\n",
    "                           left_on=['Season', 'Wteam'], right_on=['Season', 'Team'])\n",
    "tourney_merged_df.rename(columns={'Seed' : 'Wseed', 'Team' : 'W_team'}, inplace=True)\n",
    "tourney_merged_df = pd.merge(left=tourney_merged_df, right=tourneySeeds_df, how='left',\n",
    "                           left_on=['Season', 'Lteam'], right_on=['Season', 'Team'])\n",
    "tourney_merged_df.rename(columns={'Seed' : 'Lseed', 'Team' : 'L_team'}, inplace=True)"
   ]
  },
  {
   "cell_type": "code",
   "execution_count": 47,
   "metadata": {
    "collapsed": false
   },
   "outputs": [],
   "source": [
    "tourney_sanitized_df = tourney_merged_df[['Season', 'Wteam', 'Lteam', 'Wseed', 'Lseed']].copy()\n",
    "tourney_sanitized_df['Wseed'] = tourney_sanitized_df['Wseed'].map(lambda x: int(x[1:3]))\n",
    "tourney_sanitized_df['Lseed'] = tourney_sanitized_df['Lseed'].map(lambda x: int(x[1:3]))\n",
    "tourney_sanitized_df['Seed_diff'] = tourney_sanitized_df['Wseed'] - tourney_sanitized_df['Lseed']\n"
   ]
  },
  {
   "cell_type": "code",
   "execution_count": 48,
   "metadata": {
    "collapsed": false
   },
   "outputs": [],
   "source": [
    "tourney_winning_df = pd.DataFrame()\n",
    "tourney_winning_df[['Team1', 'Team2', 'Seed_diff']] = tourney_sanitized_df[['Wteam', 'Lteam', 'Seed_diff']].copy()\n",
    "tourney_winning_df['result'] = 1\n",
    "tourney_losing_df = pd.DataFrame()\n",
    "tourney_losing_df[['Team1', 'Team2', 'Seed_diff']] = tourney_sanitized_df[['Lteam', 'Wteam', 'Seed_diff']].copy()\n",
    "tourney_losing_df['Seed_diff'] = -tourney_losing_df['Seed_diff']\n",
    "tourney_losing_df['result'] = 0\n",
    "tourney_train_final_df = pd.concat((tourney_winning_df, tourney_losing_df))\n",
    "team_dict = {t: i for i, t in enumerate(tourney_train_final_df.Team1.unique())}"
   ]
  },
  {
   "cell_type": "code",
   "execution_count": 49,
   "metadata": {
    "collapsed": false
   },
   "outputs": [],
   "source": [
    "X_train = tourney_train_final_df[['Team1', 'Team2', 'Seed_diff']].copy()\n",
    "X_train['Team1'] = X_train['Team1'].apply(lambda x: team_dict[x])\n",
    "X_train['Team2'] = X_train['Team2'].apply(lambda x: team_dict[x])\n",
    "X_train['Seed_diff'] = X_train['Seed_diff'].values.reshape(-1,1)\n",
    "Y_train = tourney_train_final_df.result.values"
   ]
  },
  {
   "cell_type": "code",
   "execution_count": 50,
   "metadata": {
    "collapsed": true
   },
   "outputs": [],
   "source": [
    "X_train, X_test, y_train, y_test = cross_validation.train_test_split(\n",
    "    X_train, Y_train, test_size=0.2, random_state=5)"
   ]
  },
  {
   "cell_type": "code",
   "execution_count": 51,
   "metadata": {
    "collapsed": false
   },
   "outputs": [
    {
     "name": "stdout",
     "output_type": "stream",
     "text": [
      "GridSearchCV(cv=None, error_score='raise',\n",
      "       estimator=BaggingClassifier(base_estimator=KNeighborsClassifier(algorithm='auto', leaf_size=30, metric='minkowski',\n",
      "           metric_params=None, n_jobs=1, n_neighbors=5, p=2,\n",
      "           weights='uniform'),\n",
      "         bootstrap=True, bootstrap_features=False, max_features=0.5,\n",
      "         max_samples=0.5, n_estimators=10, n_jobs=1, oob_score=False,\n",
      "         random_state=None, verbose=0, warm_start=False),\n",
      "       fit_params={}, iid=True, n_jobs=1,\n",
      "       param_grid={'n_estimators': [5, 10, 50, 100, 200, 300, 400, 1000]},\n",
      "       pre_dispatch='2*n_jobs', refit=True, scoring=None, verbose=0)\n",
      "0.702743902439\n",
      "400\n"
     ]
    }
   ],
   "source": [
    "from sklearn.ensemble import BaggingClassifier\n",
    "from sklearn.neighbors import KNeighborsClassifier\n",
    "from sklearn.grid_search import GridSearchCV\n",
    "\n",
    "n_estimators_list = [5,10,50,100,200,300,400,1000]\n",
    "\n",
    "bagging = BaggingClassifier(KNeighborsClassifier(), max_samples=0.5, max_features=0.5)\n",
    "grid = GridSearchCV(estimator=bagging, param_grid=dict(n_estimators=n_estimators_list))\n",
    "grid.fit(X_train, y_train)\n",
    "\n",
    "print(grid)\n",
    "# summarize the results of the grid search\n",
    "print(grid.best_score_)\n",
    "print(grid.best_estimator_.n_estimators)"
   ]
  },
  {
   "cell_type": "code",
   "execution_count": 53,
   "metadata": {
    "collapsed": false
   },
   "outputs": [
    {
     "name": "stdout",
     "output_type": "stream",
     "text": [
      "best score is 0.702743902439\n",
      "Params:  {'n_estimators': 400}\n"
     ]
    }
   ],
   "source": [
    "# Score of best_estimator on the left out data\n",
    "print(\"best score is {0}\".format(grid.best_score_))\n",
    "\n",
    "# Print the optimized parameters used in the model selected from grid search\n",
    "print \"Params: \", grid.best_params_\n",
    "\n",
    "### Assign the best estimator to final Extra Tree classifier\n",
    "bagging_clf = grid.best_estimator_"
   ]
  },
  {
   "cell_type": "code",
   "execution_count": 23,
   "metadata": {
    "collapsed": true
   },
   "outputs": [],
   "source": [
    "test_et_df = pd.DataFrame()\n",
    "test_et_df['Season'] = submission_df['id'].apply(lambda x: int(x.split(\"_\")[0]))\n",
    "test_et_df['Team1'] = submission_df['id'].apply(lambda x: int(x.split(\"_\")[1]))\n",
    "test_et_df['Team2'] = submission_df['id'].apply(lambda x: int(x.split(\"_\")[2]))"
   ]
  },
  {
   "cell_type": "code",
   "execution_count": 24,
   "metadata": {
    "collapsed": true
   },
   "outputs": [],
   "source": [
    "test_et_merged_df = pd.merge(left=test_et_df, right=tourneySeeds_df, how='left',\n",
    "                           left_on=['Season', 'Team1'], right_on=['Season', 'Team'])\n",
    "test_et_merged_df.rename(columns={'Seed' : 'Seed1', 'Team' : 'team_1'}, inplace=True)\n",
    "test_et_merged_df = pd.merge(left=test_et_merged_df, right=tourneySeeds_df, how='left',\n",
    "                           left_on=['Season', 'Team2'], right_on=['Season', 'Team'])\n",
    "test_et_merged_df.rename(columns={'Seed' : 'Seed2', 'Team' : 'team_2'}, inplace=True)\n",
    "test_et_sanitized_df = test_et_merged_df[['Season', 'Team1', 'Team2', 'Seed1', 'Seed2']].copy()\n",
    "test_et_sanitized_df['Seed1'] = test_et_sanitized_df['Seed1'].map(lambda x: int(x[1:3]))\n",
    "test_et_sanitized_df['Seed2'] = test_et_sanitized_df['Seed2'].map(lambda x: int(x[1:3]))\n",
    "test_et_sanitized_df['Seed_diff'] = test_et_sanitized_df['Seed1'] - test_et_sanitized_df['Seed2']"
   ]
  },
  {
   "cell_type": "code",
   "execution_count": 25,
   "metadata": {
    "collapsed": true
   },
   "outputs": [],
   "source": [
    "X_et_test = test_et_sanitized_df[['Team1', 'Team2', 'Seed_diff']].copy()\n",
    "X_et_test['Team1'] = X_et_test['Team1'].apply(lambda x: team_dict[x])\n",
    "X_et_test['Team2'] = X_et_test['Team2'].apply(lambda x: team_dict[x])\n",
    "X_et_test['Seed_diff'] = X_et_test['Seed_diff'].values.reshape(-1,1)"
   ]
  },
  {
   "cell_type": "code",
   "execution_count": 54,
   "metadata": {
    "collapsed": false
   },
   "outputs": [],
   "source": [
    "test_et_pred_prob = bagging_clf.predict_proba(X_et_test)[:,1]"
   ]
  },
  {
   "cell_type": "code",
   "execution_count": 55,
   "metadata": {
    "collapsed": false
   },
   "outputs": [],
   "source": [
    "final_et_output = pd.DataFrame()\n",
    "final_et_output['id'] = submission_df['id']\n",
    "final_et_output['pred'] = test_et_pred_prob\n",
    "final_et_output.to_csv('./output/bagging.csv', index=False)"
   ]
  }
 ],
 "metadata": {
  "anaconda-cloud": {},
  "kernelspec": {
   "display_name": "Python [Root]",
   "language": "python",
   "name": "Python [Root]"
  },
  "language_info": {
   "codemirror_mode": {
    "name": "ipython",
    "version": 2
   },
   "file_extension": ".py",
   "mimetype": "text/x-python",
   "name": "python",
   "nbconvert_exporter": "python",
   "pygments_lexer": "ipython2",
   "version": "2.7.12"
  }
 },
 "nbformat": 4,
 "nbformat_minor": 1
}
