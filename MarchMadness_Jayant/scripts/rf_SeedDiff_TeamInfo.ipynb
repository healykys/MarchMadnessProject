{
 "cells": [
  {
   "cell_type": "code",
   "execution_count": 1,
   "metadata": {
    "collapsed": false
   },
   "outputs": [],
   "source": [
    "# Import all the libraries needed\n",
    "import os\n",
    "import autotime\n",
    "import numpy as np\n",
    "import pandas as pd\n",
    "from sklearn.utils import shuffle\n",
    "from sklearn.model_selection import GridSearchCV\n",
    "from sklearn.ensemble import RandomForestClassifier\n",
    "from sklearn.model_selection import StratifiedShuffleSplit\n",
    "from sklearn.pipeline import Pipeline\n",
    "%load_ext autotime"
   ]
  },
  {
   "cell_type": "code",
   "execution_count": 2,
   "metadata": {
    "collapsed": false
   },
   "outputs": [
    {
     "name": "stdout",
     "output_type": "stream",
     "text": [
      "/local/home/jsahewal/MarchMadness/scripts\n",
      "time: 3.99 ms\n"
     ]
    }
   ],
   "source": [
    "# Initial setup and set random seed\n",
    "np.random.seed(42)\n",
    "%cd '/home/jsahewal/MarchMadness/scripts/'\n",
    "os.chdir('/home/jsahewal/MarchMadness/scripts/')\n",
    "data_inp_dir = '../input/'\n",
    "data_out_dir = '../output/'"
   ]
  },
  {
   "cell_type": "code",
   "execution_count": 3,
   "metadata": {
    "collapsed": false
   },
   "outputs": [
    {
     "name": "stdout",
     "output_type": "stream",
     "text": [
      "time: 298 ms\n"
     ]
    }
   ],
   "source": [
    "# Load all the dataframes\n",
    "seeds_df = pd.read_csv(data_inp_dir + 'TourneySeeds.csv')\n",
    "tour_compact_results_df = pd.read_csv(data_inp_dir + 'TourneyCompactResults.csv')\n",
    "tour_detailed_results_df = pd.read_csv(data_inp_dir + 'TourneyDetailedResults.csv')\n",
    "season_compact_results_df = pd.read_csv(data_inp_dir + 'RegularSeasonCompactResults.csv')\n",
    "season_detailed_results_df = pd.read_csv(data_inp_dir + 'RegularSeasonDetailedResults.csv')\n",
    "teams_df = pd.read_csv(data_inp_dir + 'Teams.csv')\n",
    "seasons_df = pd.read_csv(data_inp_dir + 'Seasons.csv')\n",
    "submission_df = pd.read_csv(data_inp_dir + 'sample_submission.csv')\n",
    "tour_slots_df = pd.read_csv(data_inp_dir + 'TourneySlots.csv')"
   ]
  },
  {
   "cell_type": "code",
   "execution_count": 4,
   "metadata": {
    "collapsed": false
   },
   "outputs": [
    {
     "name": "stdout",
     "output_type": "stream",
     "text": [
      "time: 43.6 ms\n"
     ]
    }
   ],
   "source": [
    "# Transform the data, get the seed number for winning and losing team and remove unnecessary columns\n",
    "tour_merged_df = pd.merge(left=tour_compact_results_df, right=seeds_df, how='left',\n",
    "                           left_on=['Season', 'Wteam'], right_on=['Season', 'Team'])\n",
    "tour_merged_df.rename(columns={'Seed' : 'Wseed', 'Team' : 'W_team'}, inplace=True)\n",
    "tour_merged_df = pd.merge(left=tour_merged_df, right=seeds_df, how='left',\n",
    "                           left_on=['Season', 'Lteam'], right_on=['Season', 'Team'])\n",
    "tour_merged_df.rename(columns={'Seed' : 'Lseed', 'Team' : 'L_team'}, inplace=True)\n",
    "tour_cleaned_df = tour_merged_df[['Season', 'Wteam', 'Lteam', 'Wseed', 'Lseed']].copy()\n",
    "tour_cleaned_df['Wseed'] = tour_cleaned_df['Wseed'].map(lambda x: int(x[1:3]))\n",
    "tour_cleaned_df['Lseed'] = tour_cleaned_df['Lseed'].map(lambda x: int(x[1:3]))\n",
    "tour_cleaned_df['Seed_diff'] = tour_cleaned_df['Wseed'] - tour_cleaned_df['Lseed']\n",
    "tour_winning_df = pd.DataFrame()\n",
    "tour_winning_df[['Team1', 'Team2', 'Seed_diff']] = tour_cleaned_df[['Wteam', 'Lteam', 'Seed_diff']].copy()\n",
    "tour_winning_df['result'] = 1\n",
    "tour_losing_df = pd.DataFrame()\n",
    "tour_losing_df[['Team1', 'Team2', 'Seed_diff']] = tour_cleaned_df[['Lteam', 'Wteam', 'Seed_diff']].copy()\n",
    "tour_losing_df['Seed_diff'] = -tour_losing_df['Seed_diff']\n",
    "tour_losing_df['result'] = 0\n",
    "tour_train_final_df = pd.concat((tour_winning_df, tour_losing_df))\n",
    "team_dict = {t: i for i, t in enumerate(tour_train_final_df.Team1.unique())}"
   ]
  },
  {
   "cell_type": "code",
   "execution_count": 5,
   "metadata": {
    "collapsed": false
   },
   "outputs": [
    {
     "name": "stdout",
     "output_type": "stream",
     "text": [
      "time: 13.2 ms\n"
     ]
    }
   ],
   "source": [
    "X_train = tour_train_final_df[['Team1', 'Team2', 'Seed_diff']].copy()\n",
    "X_train['Team1'] = X_train['Team1'].apply(lambda x: team_dict[x])\n",
    "X_train['Team2'] = X_train['Team2'].apply(lambda x: team_dict[x])\n",
    "X_train['Seed_diff'] = X_train['Seed_diff'].values.reshape(-1,1)\n",
    "Y_train = tour_train_final_df.result.values\n",
    "X_train, Y_train = shuffle(X_train, Y_train)"
   ]
  },
  {
   "cell_type": "code",
   "execution_count": 6,
   "metadata": {
    "collapsed": false
   },
   "outputs": [
    {
     "name": "stdout",
     "output_type": "stream",
     "text": [
      "best score is -0.5379848968\n",
      "Params:  {'clf__criterion': 'entropy', 'clf__max_depth': 5, 'clf__max_features': 'auto', 'clf__min_samples_split': 32}\n",
      "time: 10min 7s\n"
     ]
    }
   ],
   "source": [
    "sss_rf = StratifiedShuffleSplit(n_splits=1000, test_size=0.2)\n",
    "sss_rf.get_n_splits(X_train, Y_train)\n",
    "pipe_rf = Pipeline(steps=[('clf', RandomForestClassifier())])\n",
    "search_parameters_rf = {'clf__criterion': ['gini', 'entropy'],\n",
    "                         'clf__max_features': [3, 'auto'],\n",
    "                         'clf__max_depth': [5, 10, 15, 20, 25],\n",
    "                         'clf__min_samples_split': [2, 4, 8, 16, 32]}\n",
    "grid_search_rf = GridSearchCV(pipe_rf, param_grid=search_parameters_rf, cv=sss_rf, scoring='neg_log_loss', n_jobs=-1)\n",
    "grid_search_rf.fit(X_train, Y_train)\n",
    "\n",
    "# Score of best_estimator on the left out data\n",
    "print(\"best score is {0}\".format(grid_search_rf.best_score_))\n",
    "\n",
    "# Print the optimized parameters used in the model selected from grid search\n",
    "print \"Params: \", grid_search_rf.best_params_\n",
    "\n",
    "### Assign the best estimator to final LR classifier\n",
    "clf_rf = grid_search_rf.best_estimator_"
   ]
  },
  {
   "cell_type": "code",
   "execution_count": 7,
   "metadata": {
    "collapsed": false
   },
   "outputs": [
    {
     "name": "stdout",
     "output_type": "stream",
     "text": [
      "time: 52.3 ms\n"
     ]
    }
   ],
   "source": [
    "test_rf_df = pd.DataFrame()\n",
    "test_rf_df['Season'] = submission_df['id'].apply(lambda x: int(x.split(\"_\")[0]))\n",
    "test_rf_df['Team1'] = submission_df['id'].apply(lambda x: int(x.split(\"_\")[1]))\n",
    "test_rf_df['Team2'] = submission_df['id'].apply(lambda x: int(x.split(\"_\")[2]))"
   ]
  },
  {
   "cell_type": "code",
   "execution_count": 8,
   "metadata": {
    "collapsed": false
   },
   "outputs": [
    {
     "name": "stdout",
     "output_type": "stream",
     "text": [
      "time: 36.8 ms\n"
     ]
    }
   ],
   "source": [
    "test_rf_merged_df = pd.merge(left=test_rf_df, right=seeds_df, how='left',\n",
    "                           left_on=['Season', 'Team1'], right_on=['Season', 'Team'])\n",
    "test_rf_merged_df.rename(columns={'Seed' : 'Seed1', 'Team' : 'team_1'}, inplace=True)\n",
    "test_rf_merged_df = pd.merge(left=test_rf_merged_df, right=seeds_df, how='left',\n",
    "                           left_on=['Season', 'Team2'], right_on=['Season', 'Team'])\n",
    "test_rf_merged_df.rename(columns={'Seed' : 'Seed2', 'Team' : 'team_2'}, inplace=True)\n",
    "test_rf_cleaned_df = test_rf_merged_df[['Season', 'Team1', 'Team2', 'Seed1', 'Seed2']].copy()\n",
    "test_rf_cleaned_df['Seed1'] = test_rf_cleaned_df['Seed1'].map(lambda x: int(x[1:3]))\n",
    "test_rf_cleaned_df['Seed2'] = test_rf_cleaned_df['Seed2'].map(lambda x: int(x[1:3]))\n",
    "test_rf_cleaned_df['Seed_diff'] = test_rf_cleaned_df['Seed1'] - test_rf_cleaned_df['Seed2']"
   ]
  },
  {
   "cell_type": "code",
   "execution_count": 9,
   "metadata": {
    "collapsed": false
   },
   "outputs": [
    {
     "name": "stdout",
     "output_type": "stream",
     "text": [
      "time: 14.4 ms\n"
     ]
    }
   ],
   "source": [
    "X_rf_test = test_rf_cleaned_df[['Team1', 'Team2', 'Seed_diff']].copy()\n",
    "X_rf_test['Team1'] = X_rf_test['Team1'].apply(lambda x: team_dict[x])\n",
    "X_rf_test['Team2'] = X_rf_test['Team2'].apply(lambda x: team_dict[x])\n",
    "X_rf_test['Seed_diff'] = X_rf_test['Seed_diff'].values.reshape(-1,1)"
   ]
  },
  {
   "cell_type": "code",
   "execution_count": 10,
   "metadata": {
    "collapsed": false
   },
   "outputs": [
    {
     "name": "stdout",
     "output_type": "stream",
     "text": [
      "time: 14.1 ms\n"
     ]
    }
   ],
   "source": [
    "test_rf_pred_prob = clf_rf.predict_proba(X_rf_test)[:,1]"
   ]
  },
  {
   "cell_type": "code",
   "execution_count": 11,
   "metadata": {
    "collapsed": false
   },
   "outputs": [
    {
     "name": "stdout",
     "output_type": "stream",
     "text": [
      "time: 16.7 ms\n"
     ]
    }
   ],
   "source": [
    "final_rf_output = pd.DataFrame()\n",
    "final_rf_output['id'] = submission_df['id']\n",
    "final_rf_output['pred'] = test_rf_pred_prob\n",
    "final_rf_output.to_csv('../output/rf.csv', index=False)"
   ]
  },
  {
   "cell_type": "code",
   "execution_count": null,
   "metadata": {
    "collapsed": true
   },
   "outputs": [],
   "source": []
  }
 ],
 "metadata": {
  "anaconda-cloud": {},
  "kernelspec": {
   "display_name": "Python [default]",
   "language": "python",
   "name": "python2"
  },
  "language_info": {
   "codemirror_mode": {
    "name": "ipython",
    "version": 2
   },
   "file_extension": ".py",
   "mimetype": "text/x-python",
   "name": "python",
   "nbconvert_exporter": "python",
   "pygments_lexer": "ipython2",
   "version": "2.7.13"
  }
 },
 "nbformat": 4,
 "nbformat_minor": 2
}
